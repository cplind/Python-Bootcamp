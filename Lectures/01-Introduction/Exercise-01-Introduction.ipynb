{
  "nbformat": 4,
  "nbformat_minor": 0,
  "metadata": {
    "kernelspec": {
      "display_name": "Python 3",
      "language": "python",
      "name": "python3"
    },
    "language_info": {
      "codemirror_mode": {
        "name": "ipython",
        "version": 3
      },
      "file_extension": ".py",
      "mimetype": "text/x-python",
      "name": "python",
      "nbconvert_exporter": "python",
      "pygments_lexer": "ipython3",
      "version": "3.7.2"
    },
    "colab": {
      "name": "Exercise-01-Introduction.ipynb",
      "provenance": [],
      "collapsed_sections": []
    }
  },
  "cells": [
    {
      "cell_type": "markdown",
      "metadata": {
        "id": "3f2a_IlEgY84",
        "colab_type": "text"
      },
      "source": [
        "# Exercise 1\n",
        "For this exercise we are going to get more familiar with Jupyter notebooks. Follow these steps to complete the task:\n",
        "\n",
        "* Create a new notebook: In Colab select **File** > **New notebook**\n",
        "* Create a new \"Text\" cell on the top: you should hover over the top of your notebook (in the middle of the screen) to see the option appear.\n",
        "* In your Text/Markdown cell type some description, something like:\n",
        "\n",
        "```\n",
        "# Python version\n",
        "The following code provides the version of the Python that this notebook is running on:\n",
        "```\n",
        "\n",
        "* Now hit Shift + Enter to see the rendered text.\n",
        "* You should have a new cell below that has a Code type by default.\n",
        "* In this Code cell type the following code to get the version of your Python:\n",
        "\n",
        "```python\n",
        "import sys\n",
        "print(sys.version)\n",
        "```\n",
        "\n",
        "* Hit Shift + Enter for it to run. Alternatively, you can hit the Run button on the left hand side.\n",
        "* Give your notebook a good name. You can modify the name of your notebook by clicking on the current name (Untitled) on the top. Call it anything you think is descriptive of this notebook, something like My First Notebook!\n",
        "* You can run your notebook from top to bottom by selecting **Runtime** > **Restart & Run All** (or **Run all**) from the menu. Try it! This is particularly useful after you are done working on a notebook to make sure everything works as expected when the RAM is fresh.\n",
        "* Save your notebook - **File** > **Save** from the menu. Your Colab notebook should also get saved periodically. \n",
        "* Export - From **File** > **Download .ipynb**\n",
        "* Check the history of your edits: On the top of the notebook where it says \"All changes saved\" you can view the history like any other Google Doc.\n",
        "* Share: you may share this notebook with others by putting their email address. It's located on the top right."
      ]
    }
  ]
}