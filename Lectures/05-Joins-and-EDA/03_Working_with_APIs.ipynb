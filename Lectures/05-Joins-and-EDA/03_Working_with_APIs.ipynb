{
  "nbformat": 4,
  "nbformat_minor": 0,
  "metadata": {
    "colab": {
      "name": "02-Working-with-APIs.ipynb",
      "provenance": [],
      "collapsed_sections": []
    },
    "kernelspec": {
      "name": "python3",
      "display_name": "Python 3"
    }
  },
  "cells": [
    {
      "cell_type": "markdown",
      "metadata": {
        "id": "SLgLltMrSKMO",
        "colab_type": "text"
      },
      "source": [
        "# Working with APIs\n",
        "\n",
        "In this notebook we will work with YELP API as an example of collecting data from an application programming interface, API.\n",
        "\n",
        "In order to follow these steps you will need to have your own API key.\n",
        "\n",
        "* Generate Yelp API Key (you need to have a YELP account): https://www.yelp.com/developers/v3/manage_app "
      ]
    },
    {
      "cell_type": "code",
      "metadata": {
        "id": "SRkVDZEtFt9Q",
        "colab_type": "code",
        "colab": {}
      },
      "source": [
        "# Import packages\n",
        "import requests\n",
        "import pandas as pd\n",
        "import json"
      ],
      "execution_count": 0,
      "outputs": []
    },
    {
      "cell_type": "code",
      "metadata": {
        "id": "6Mi7BPAFKiTI",
        "colab_type": "code",
        "colab": {}
      },
      "source": [
        "api_url = \"https://api.yelp.com/v3/businesses/search\""
      ],
      "execution_count": 0,
      "outputs": []
    },
    {
      "cell_type": "code",
      "metadata": {
        "id": "QzSIJOFKMQQr",
        "colab_type": "code",
        "colab": {}
      },
      "source": [
        "#@title Replace your own API Key here { run: \"auto\", vertical-output: true, display-mode: \"form\" }\n",
        "api_key = \"\" #@param {type:\"string\"}"
      ],
      "execution_count": 0,
      "outputs": []
    },
    {
      "cell_type": "code",
      "metadata": {
        "id": "np5dqM_GKkRz",
        "colab_type": "code",
        "colab": {}
      },
      "source": [
        "# Set up parameter dictionary according to documentation\n",
        "params = {\"term\": \"cafe\", \n",
        "          \"location\": \"Boston\"}\n",
        "\n",
        "# Set up header dictionary w/ API key according to documentation\n",
        "headers = {\"Authorization\": \"Bearer {}\".format(api_key)}"
      ],
      "execution_count": 0,
      "outputs": []
    },
    {
      "cell_type": "code",
      "metadata": {
        "id": "80eB9bbgKoUP",
        "colab_type": "code",
        "colab": {}
      },
      "source": [
        "# Call the API\n",
        "response = requests.get(api_url,\n",
        "                        params=params,\n",
        "                        headers=headers)"
      ],
      "execution_count": 0,
      "outputs": []
    },
    {
      "cell_type": "code",
      "metadata": {
        "id": "eY71veDTMayr",
        "colab_type": "code",
        "outputId": "ffd8b07c-c2ba-4b59-8638-bd173d76cb01",
        "colab": {
          "base_uri": "https://localhost:8080/",
          "height": 267
        }
      },
      "source": [
        "# Isolate the JSON data from the response object\n",
        "data = response.json()\n",
        "\n",
        "# Load data to a data frame\n",
        "cafes = pd.DataFrame(data[\"businesses\"])\n",
        "\n",
        "cafes.head(2)"
      ],
      "execution_count": 0,
      "outputs": [
        {
          "output_type": "execute_result",
          "data": {
            "text/html": [
              "<div>\n",
              "<style scoped>\n",
              "    .dataframe tbody tr th:only-of-type {\n",
              "        vertical-align: middle;\n",
              "    }\n",
              "\n",
              "    .dataframe tbody tr th {\n",
              "        vertical-align: top;\n",
              "    }\n",
              "\n",
              "    .dataframe thead th {\n",
              "        text-align: right;\n",
              "    }\n",
              "</style>\n",
              "<table border=\"1\" class=\"dataframe\">\n",
              "  <thead>\n",
              "    <tr style=\"text-align: right;\">\n",
              "      <th></th>\n",
              "      <th>id</th>\n",
              "      <th>alias</th>\n",
              "      <th>name</th>\n",
              "      <th>image_url</th>\n",
              "      <th>is_closed</th>\n",
              "      <th>url</th>\n",
              "      <th>review_count</th>\n",
              "      <th>categories</th>\n",
              "      <th>rating</th>\n",
              "      <th>coordinates</th>\n",
              "      <th>transactions</th>\n",
              "      <th>price</th>\n",
              "      <th>location</th>\n",
              "      <th>phone</th>\n",
              "      <th>display_phone</th>\n",
              "      <th>distance</th>\n",
              "    </tr>\n",
              "  </thead>\n",
              "  <tbody>\n",
              "    <tr>\n",
              "      <th>0</th>\n",
              "      <td>e4r0wRKY_iNdmDffnV0ntw</td>\n",
              "      <td>ogawa-coffee-boston-2</td>\n",
              "      <td>Ogawa Coffee</td>\n",
              "      <td>https://s3-media4.fl.yelpcdn.com/bphoto/KhV3Kt...</td>\n",
              "      <td>False</td>\n",
              "      <td>https://www.yelp.com/biz/ogawa-coffee-boston-2...</td>\n",
              "      <td>550</td>\n",
              "      <td>[{'alias': 'coffee', 'title': 'Coffee &amp; Tea'},...</td>\n",
              "      <td>4.0</td>\n",
              "      <td>{'latitude': 42.3568572843331, 'longitude': -7...</td>\n",
              "      <td>[delivery]</td>\n",
              "      <td>$$</td>\n",
              "      <td>{'address1': '10 Milk St', 'address2': '', 'ad...</td>\n",
              "      <td>+16177807139</td>\n",
              "      <td>(617) 780-7139</td>\n",
              "      <td>1474.820314</td>\n",
              "    </tr>\n",
              "    <tr>\n",
              "      <th>1</th>\n",
              "      <td>06feX4qEHFMcPZsiWtvYfw</td>\n",
              "      <td>thinking-cup-boston-5</td>\n",
              "      <td>Thinking Cup</td>\n",
              "      <td>https://s3-media2.fl.yelpcdn.com/bphoto/QKyY2_...</td>\n",
              "      <td>False</td>\n",
              "      <td>https://www.yelp.com/biz/thinking-cup-boston-5...</td>\n",
              "      <td>780</td>\n",
              "      <td>[{'alias': 'coffee', 'title': 'Coffee &amp; Tea'},...</td>\n",
              "      <td>4.5</td>\n",
              "      <td>{'latitude': 42.351734691006, 'longitude': -71...</td>\n",
              "      <td>[delivery]</td>\n",
              "      <td>$$</td>\n",
              "      <td>{'address1': '85 Newbury St', 'address2': '', ...</td>\n",
              "      <td>+16172473333</td>\n",
              "      <td>(617) 247-3333</td>\n",
              "      <td>516.679758</td>\n",
              "    </tr>\n",
              "  </tbody>\n",
              "</table>\n",
              "</div>"
            ],
            "text/plain": [
              "                       id                  alias  ...   display_phone     distance\n",
              "0  e4r0wRKY_iNdmDffnV0ntw  ogawa-coffee-boston-2  ...  (617) 780-7139  1474.820314\n",
              "1  06feX4qEHFMcPZsiWtvYfw  thinking-cup-boston-5  ...  (617) 247-3333   516.679758\n",
              "\n",
              "[2 rows x 16 columns]"
            ]
          },
          "metadata": {
            "tags": []
          },
          "execution_count": 78
        }
      ]
    },
    {
      "cell_type": "code",
      "metadata": {
        "id": "C6Esln7VMpIx",
        "colab_type": "code",
        "outputId": "b7812732-049e-4c42-c432-604e139417a7",
        "colab": {
          "base_uri": "https://localhost:8080/",
          "height": 34
        }
      },
      "source": [
        "cafes.shape"
      ],
      "execution_count": 0,
      "outputs": [
        {
          "output_type": "execute_result",
          "data": {
            "text/plain": [
              "(20, 16)"
            ]
          },
          "metadata": {
            "tags": []
          },
          "execution_count": 79
        }
      ]
    },
    {
      "cell_type": "code",
      "metadata": {
        "id": "HCwHtQsoNE9A",
        "colab_type": "code",
        "colab": {}
      },
      "source": [
        "for id in cafes.id:\n",
        "  url=\"https://api.yelp.com/v3/businesses/\" + id + \"/reviews\"\n",
        "  req = requests.get(url, headers=headers)\n",
        "  data = response.json()\n",
        "  df = pd.DataFrame(data[\"businesses\"])\n",
        "  df.head(1)"
      ],
      "execution_count": 0,
      "outputs": []
    },
    {
      "cell_type": "code",
      "metadata": {
        "id": "LhhBHBGJQG2P",
        "colab_type": "code",
        "colab": {}
      },
      "source": [
        "url=\"https://api.yelp.com/v3/businesses/\" + cafes.id[0] + \"/reviews\"\n",
        "response = requests.get(url, headers=headers)\n",
        "data = response.json()"
      ],
      "execution_count": 0,
      "outputs": []
    },
    {
      "cell_type": "code",
      "metadata": {
        "id": "PbdUQuEsR2c8",
        "colab_type": "code",
        "outputId": "ec6c1a30-2898-461e-dd0b-c2476be3cdba",
        "colab": {
          "base_uri": "https://localhost:8080/",
          "height": 193
        }
      },
      "source": [
        "pd.DataFrame(data['reviews'])"
      ],
      "execution_count": 0,
      "outputs": [
        {
          "output_type": "execute_result",
          "data": {
            "text/html": [
              "<div>\n",
              "<style scoped>\n",
              "    .dataframe tbody tr th:only-of-type {\n",
              "        vertical-align: middle;\n",
              "    }\n",
              "\n",
              "    .dataframe tbody tr th {\n",
              "        vertical-align: top;\n",
              "    }\n",
              "\n",
              "    .dataframe thead th {\n",
              "        text-align: right;\n",
              "    }\n",
              "</style>\n",
              "<table border=\"1\" class=\"dataframe\">\n",
              "  <thead>\n",
              "    <tr style=\"text-align: right;\">\n",
              "      <th></th>\n",
              "      <th>id</th>\n",
              "      <th>url</th>\n",
              "      <th>text</th>\n",
              "      <th>rating</th>\n",
              "      <th>time_created</th>\n",
              "      <th>user</th>\n",
              "    </tr>\n",
              "  </thead>\n",
              "  <tbody>\n",
              "    <tr>\n",
              "      <th>0</th>\n",
              "      <td>QKA8U45o2FznkhUgSOXkbg</td>\n",
              "      <td>https://www.yelp.com/biz/ogawa-coffee-boston-2...</td>\n",
              "      <td>Picture this. You're finally walking around on...</td>\n",
              "      <td>5</td>\n",
              "      <td>2020-01-03 11:46:05</td>\n",
              "      <td>{'id': 'e1E55pOcV2TDtZJMZyA6aA', 'profile_url'...</td>\n",
              "    </tr>\n",
              "    <tr>\n",
              "      <th>1</th>\n",
              "      <td>AEh7fYiiKFMsCd6UcdFJPQ</td>\n",
              "      <td>https://www.yelp.com/biz/ogawa-coffee-boston-2...</td>\n",
              "      <td>Went to Ogawa bright and early (I'm talking 7:...</td>\n",
              "      <td>2</td>\n",
              "      <td>2020-01-31 17:07:48</td>\n",
              "      <td>{'id': 'FTNlMGxVV2KZh4qjCLYuEQ', 'profile_url'...</td>\n",
              "    </tr>\n",
              "    <tr>\n",
              "      <th>2</th>\n",
              "      <td>NYbzPadzOdjqE65ahKJ7-Q</td>\n",
              "      <td>https://www.yelp.com/biz/ogawa-coffee-boston-2...</td>\n",
              "      <td>This review is just based on a 1-time visit (b...</td>\n",
              "      <td>4</td>\n",
              "      <td>2020-01-09 10:29:00</td>\n",
              "      <td>{'id': '7bb1FK71jF-I2DKI45gpnw', 'profile_url'...</td>\n",
              "    </tr>\n",
              "  </tbody>\n",
              "</table>\n",
              "</div>"
            ],
            "text/plain": [
              "                       id  ...                                               user\n",
              "0  QKA8U45o2FznkhUgSOXkbg  ...  {'id': 'e1E55pOcV2TDtZJMZyA6aA', 'profile_url'...\n",
              "1  AEh7fYiiKFMsCd6UcdFJPQ  ...  {'id': 'FTNlMGxVV2KZh4qjCLYuEQ', 'profile_url'...\n",
              "2  NYbzPadzOdjqE65ahKJ7-Q  ...  {'id': '7bb1FK71jF-I2DKI45gpnw', 'profile_url'...\n",
              "\n",
              "[3 rows x 6 columns]"
            ]
          },
          "metadata": {
            "tags": []
          },
          "execution_count": 82
        }
      ]
    }
  ]
}